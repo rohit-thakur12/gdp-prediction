{
 "cells": [
  {
   "cell_type": "code",
   "execution_count": null,
   "metadata": {
    "id": "i4LHLsJwGERT"
   },
   "outputs": [],
   "source": [
    "import pandas as pd\n",
    "import numpy as np\n",
    "import matplotlib.pyplot as plt\n",
    "from sklearn.model_selection import train_test_split"
   ]
  },
  {
   "cell_type": "code",
   "execution_count": null,
   "metadata": {
    "id": "gT3BKgUGGfr1"
   },
   "outputs": [],
   "source": [
    "df = pd.read_csv('/content/GDP - GDP.csv')"
   ]
  },
  {
   "cell_type": "code",
   "execution_count": null,
   "metadata": {
    "colab": {
     "base_uri": "https://localhost:8080/",
     "height": 267
    },
    "id": "JVoxalZRGllq",
    "outputId": "7b684432-94fa-40ca-cd79-538ded724693"
   },
   "outputs": [
    {
     "data": {
      "text/html": [
       "\n",
       "  <div id=\"df-13b7be76-e4cb-47fd-a338-4d0d9186e6fb\">\n",
       "    <div class=\"colab-df-container\">\n",
       "      <div>\n",
       "<style scoped>\n",
       "    .dataframe tbody tr th:only-of-type {\n",
       "        vertical-align: middle;\n",
       "    }\n",
       "\n",
       "    .dataframe tbody tr th {\n",
       "        vertical-align: top;\n",
       "    }\n",
       "\n",
       "    .dataframe thead th {\n",
       "        text-align: right;\n",
       "    }\n",
       "</style>\n",
       "<table border=\"1\" class=\"dataframe\">\n",
       "  <thead>\n",
       "    <tr style=\"text-align: right;\">\n",
       "      <th></th>\n",
       "      <th>GDP</th>\n",
       "      <th>Implied PPP Conversion Rate</th>\n",
       "      <th>Inflation</th>\n",
       "      <th>Import Volume</th>\n",
       "      <th>Export Volume</th>\n",
       "      <th>Population</th>\n",
       "      <th>Government Revenue</th>\n",
       "      <th>General Government Revenue</th>\n",
       "      <th>Currect Account Balance</th>\n",
       "      <th>Currect Account Balance.1</th>\n",
       "    </tr>\n",
       "  </thead>\n",
       "  <tbody>\n",
       "    <tr>\n",
       "      <th>0</th>\n",
       "      <td>492.903</td>\n",
       "      <td>10.096</td>\n",
       "      <td>45.691</td>\n",
       "      <td>36.077</td>\n",
       "      <td>49.721</td>\n",
       "      <td>19.477</td>\n",
       "      <td>21.618</td>\n",
       "      <td>9.826</td>\n",
       "      <td>1.348</td>\n",
       "      <td>29.616</td>\n",
       "    </tr>\n",
       "    <tr>\n",
       "      <th>1</th>\n",
       "      <td>496.209</td>\n",
       "      <td>10.929</td>\n",
       "      <td>51.752</td>\n",
       "      <td>-1.088</td>\n",
       "      <td>-6.049</td>\n",
       "      <td>20.237</td>\n",
       "      <td>31.209</td>\n",
       "      <td>12.676</td>\n",
       "      <td>1.915</td>\n",
       "      <td>37.216</td>\n",
       "    </tr>\n",
       "    <tr>\n",
       "      <th>2</th>\n",
       "      <td>554.91</td>\n",
       "      <td>11.736</td>\n",
       "      <td>57.219</td>\n",
       "      <td>54.659</td>\n",
       "      <td>46.504</td>\n",
       "      <td>20.947</td>\n",
       "      <td>44.926</td>\n",
       "      <td>14.733</td>\n",
       "      <td>1.864</td>\n",
       "      <td>30.226</td>\n",
       "    </tr>\n",
       "    <tr>\n",
       "      <th>3</th>\n",
       "      <td>584.658</td>\n",
       "      <td>12.254</td>\n",
       "      <td>59.671</td>\n",
       "      <td>-2.541</td>\n",
       "      <td>-7.69</td>\n",
       "      <td>21.596</td>\n",
       "      <td>65.518</td>\n",
       "      <td>18.946</td>\n",
       "      <td>1.444</td>\n",
       "      <td>20.844</td>\n",
       "    </tr>\n",
       "    <tr>\n",
       "      <th>4</th>\n",
       "      <td>662.65</td>\n",
       "      <td>13.014</td>\n",
       "      <td>69.273</td>\n",
       "      <td>-9.417</td>\n",
       "      <td>-10.467</td>\n",
       "      <td>22.426</td>\n",
       "      <td>81.163</td>\n",
       "      <td>18.986</td>\n",
       "      <td>5.424</td>\n",
       "      <td>63.39</td>\n",
       "    </tr>\n",
       "  </tbody>\n",
       "</table>\n",
       "</div>\n",
       "      <button class=\"colab-df-convert\" onclick=\"convertToInteractive('df-13b7be76-e4cb-47fd-a338-4d0d9186e6fb')\"\n",
       "              title=\"Convert this dataframe to an interactive table.\"\n",
       "              style=\"display:none;\">\n",
       "        \n",
       "  <svg xmlns=\"http://www.w3.org/2000/svg\" height=\"24px\"viewBox=\"0 0 24 24\"\n",
       "       width=\"24px\">\n",
       "    <path d=\"M0 0h24v24H0V0z\" fill=\"none\"/>\n",
       "    <path d=\"M18.56 5.44l.94 2.06.94-2.06 2.06-.94-2.06-.94-.94-2.06-.94 2.06-2.06.94zm-11 1L8.5 8.5l.94-2.06 2.06-.94-2.06-.94L8.5 2.5l-.94 2.06-2.06.94zm10 10l.94 2.06.94-2.06 2.06-.94-2.06-.94-.94-2.06-.94 2.06-2.06.94z\"/><path d=\"M17.41 7.96l-1.37-1.37c-.4-.4-.92-.59-1.43-.59-.52 0-1.04.2-1.43.59L10.3 9.45l-7.72 7.72c-.78.78-.78 2.05 0 2.83L4 21.41c.39.39.9.59 1.41.59.51 0 1.02-.2 1.41-.59l7.78-7.78 2.81-2.81c.8-.78.8-2.07 0-2.86zM5.41 20L4 18.59l7.72-7.72 1.47 1.35L5.41 20z\"/>\n",
       "  </svg>\n",
       "      </button>\n",
       "      \n",
       "  <style>\n",
       "    .colab-df-container {\n",
       "      display:flex;\n",
       "      flex-wrap:wrap;\n",
       "      gap: 12px;\n",
       "    }\n",
       "\n",
       "    .colab-df-convert {\n",
       "      background-color: #E8F0FE;\n",
       "      border: none;\n",
       "      border-radius: 50%;\n",
       "      cursor: pointer;\n",
       "      display: none;\n",
       "      fill: #1967D2;\n",
       "      height: 32px;\n",
       "      padding: 0 0 0 0;\n",
       "      width: 32px;\n",
       "    }\n",
       "\n",
       "    .colab-df-convert:hover {\n",
       "      background-color: #E2EBFA;\n",
       "      box-shadow: 0px 1px 2px rgba(60, 64, 67, 0.3), 0px 1px 3px 1px rgba(60, 64, 67, 0.15);\n",
       "      fill: #174EA6;\n",
       "    }\n",
       "\n",
       "    [theme=dark] .colab-df-convert {\n",
       "      background-color: #3B4455;\n",
       "      fill: #D2E3FC;\n",
       "    }\n",
       "\n",
       "    [theme=dark] .colab-df-convert:hover {\n",
       "      background-color: #434B5C;\n",
       "      box-shadow: 0px 1px 3px 1px rgba(0, 0, 0, 0.15);\n",
       "      filter: drop-shadow(0px 1px 2px rgba(0, 0, 0, 0.3));\n",
       "      fill: #FFFFFF;\n",
       "    }\n",
       "  </style>\n",
       "\n",
       "      <script>\n",
       "        const buttonEl =\n",
       "          document.querySelector('#df-13b7be76-e4cb-47fd-a338-4d0d9186e6fb button.colab-df-convert');\n",
       "        buttonEl.style.display =\n",
       "          google.colab.kernel.accessAllowed ? 'block' : 'none';\n",
       "\n",
       "        async function convertToInteractive(key) {\n",
       "          const element = document.querySelector('#df-13b7be76-e4cb-47fd-a338-4d0d9186e6fb');\n",
       "          const dataTable =\n",
       "            await google.colab.kernel.invokeFunction('convertToInteractive',\n",
       "                                                     [key], {});\n",
       "          if (!dataTable) return;\n",
       "\n",
       "          const docLinkHtml = 'Like what you see? Visit the ' +\n",
       "            '<a target=\"_blank\" href=https://colab.research.google.com/notebooks/data_table.ipynb>data table notebook</a>'\n",
       "            + ' to learn more about interactive tables.';\n",
       "          element.innerHTML = '';\n",
       "          dataTable['output_type'] = 'display_data';\n",
       "          await google.colab.output.renderOutput(dataTable, element);\n",
       "          const docLink = document.createElement('div');\n",
       "          docLink.innerHTML = docLinkHtml;\n",
       "          element.appendChild(docLink);\n",
       "        }\n",
       "      </script>\n",
       "    </div>\n",
       "  </div>\n",
       "  "
      ],
      "text/plain": [
       "       GDP Implied PPP Conversion Rate  Inflation Import Volume Export Volume  \\\n",
       "0  492.903                      10.096     45.691        36.077        49.721   \n",
       "1  496.209                      10.929     51.752        -1.088        -6.049   \n",
       "2   554.91                      11.736     57.219        54.659        46.504   \n",
       "3  584.658                      12.254     59.671        -2.541         -7.69   \n",
       "4   662.65                      13.014     69.273        -9.417       -10.467   \n",
       "\n",
       "   Population Government Revenue  General Government Revenue  \\\n",
       "0      19.477             21.618                       9.826   \n",
       "1      20.237             31.209                      12.676   \n",
       "2      20.947             44.926                      14.733   \n",
       "3      21.596             65.518                      18.946   \n",
       "4      22.426             81.163                      18.986   \n",
       "\n",
       "  Currect Account Balance Currect Account Balance.1  \n",
       "0                   1.348                    29.616  \n",
       "1                   1.915                    37.216  \n",
       "2                   1.864                    30.226  \n",
       "3                   1.444                    20.844  \n",
       "4                   5.424                     63.39  "
      ]
     },
     "execution_count": 3,
     "metadata": {},
     "output_type": "execute_result"
    }
   ],
   "source": [
    "df.head()"
   ]
  },
  {
   "cell_type": "code",
   "execution_count": null,
   "metadata": {
    "colab": {
     "base_uri": "https://localhost:8080/"
    },
    "id": "_S2fCwkvGoFh",
    "outputId": "df35804b-7570-4bbd-b869-6afd89331189"
   },
   "outputs": [
    {
     "data": {
      "text/plain": [
       "GDP                             object\n",
       "Implied PPP Conversion Rate     object\n",
       "Inflation                      float64\n",
       "Import Volume                   object\n",
       "Export Volume                   object\n",
       "Population                     float64\n",
       "Government Revenue              object\n",
       "General Government Revenue     float64\n",
       "Currect Account Balance         object\n",
       "Currect Account Balance.1       object\n",
       "dtype: object"
      ]
     },
     "execution_count": 4,
     "metadata": {},
     "output_type": "execute_result"
    }
   ],
   "source": [
    "df.dtypes"
   ]
  },
  {
   "cell_type": "code",
   "execution_count": null,
   "metadata": {
    "id": "q2VtCCedGszg"
   },
   "outputs": [],
   "source": [
    "df.replace(\"--\", np.nan, inplace=True)\n",
    "df.dropna(axis=0, inplace=True)"
   ]
  },
  {
   "cell_type": "code",
   "execution_count": null,
   "metadata": {
    "id": "uthDoGnrGzjd"
   },
   "outputs": [],
   "source": [
    "for column in df.columns:\n",
    "  df[column] = df[column].astype(float)"
   ]
  },
  {
   "cell_type": "code",
   "execution_count": null,
   "metadata": {
    "colab": {
     "base_uri": "https://localhost:8080/"
    },
    "id": "gpXkQNxMG3Fl",
    "outputId": "18a88f99-4412-4660-ef15-01565d7e0adb"
   },
   "outputs": [
    {
     "data": {
      "text/plain": [
       "GDP                            float64\n",
       "Implied PPP Conversion Rate    float64\n",
       "Inflation                      float64\n",
       "Import Volume                  float64\n",
       "Export Volume                  float64\n",
       "Population                     float64\n",
       "Government Revenue             float64\n",
       "General Government Revenue     float64\n",
       "Currect Account Balance        float64\n",
       "Currect Account Balance.1      float64\n",
       "dtype: object"
      ]
     },
     "execution_count": 7,
     "metadata": {},
     "output_type": "execute_result"
    }
   ],
   "source": [
    "df.dtypes"
   ]
  },
  {
   "cell_type": "code",
   "execution_count": null,
   "metadata": {
    "id": "NcnJ-HXKG4nl"
   },
   "outputs": [],
   "source": [
    "y = df.pop('GDP')\n",
    "x_train, x_test, y_train, y_test = train_test_split(df.to_numpy(), y, test_size=0.2, random_state=193)"
   ]
  },
  {
   "cell_type": "code",
   "execution_count": null,
   "metadata": {
    "id": "HcFheObTG_X2"
   },
   "outputs": [],
   "source": [
    "from sklearn.linear_model import LinearRegression\n",
    "model = LinearRegression()"
   ]
  },
  {
   "cell_type": "code",
   "execution_count": null,
   "metadata": {
    "id": "Yfa4AoWfHISZ"
   },
   "outputs": [],
   "source": [
    "model.fit(x_train, y_train)\n",
    "y_hat = model.predict(x_test)"
   ]
  },
  {
   "cell_type": "code",
   "execution_count": null,
   "metadata": {
    "colab": {
     "base_uri": "https://localhost:8080/"
    },
    "id": "8o5RlpITHPzm",
    "outputId": "56aa3f32-6bf1-4a3c-fb8f-6352db4eddb1"
   },
   "outputs": [
    {
     "data": {
      "text/plain": [
       "0.8340951589532511"
      ]
     },
     "execution_count": 11,
     "metadata": {},
     "output_type": "execute_result"
    }
   ],
   "source": [
    "model.score(x_train, y_train)"
   ]
  },
  {
   "cell_type": "code",
   "execution_count": null,
   "metadata": {
    "colab": {
     "base_uri": "https://localhost:8080/"
    },
    "id": "NoyRQPb1HTcw",
    "outputId": "77db2532-be4e-4c8b-d070-dc2924b41d95"
   },
   "outputs": [
    {
     "data": {
      "text/plain": [
       "0.6795492345839403"
      ]
     },
     "execution_count": 12,
     "metadata": {},
     "output_type": "execute_result"
    }
   ],
   "source": [
    "model.score(x_test, y_test)"
   ]
  },
  {
   "cell_type": "code",
   "execution_count": null,
   "metadata": {
    "colab": {
     "base_uri": "https://localhost:8080/"
    },
    "id": "iBEyAZY2HXWG",
    "outputId": "bd811940-543a-42c8-fb3c-1e6e6bcc1264"
   },
   "outputs": [
    {
     "name": "stdout",
     "output_type": "stream",
     "text": [
      "130081467231.11476\n"
     ]
    }
   ],
   "source": [
    "from sklearn.metrics import mean_squared_error\n",
    "print(mean_squared_error(y_test, y_hat))"
   ]
  },
  {
   "cell_type": "code",
   "execution_count": null,
   "metadata": {
    "id": "EFwp3pQsHaaU"
   },
   "outputs": [],
   "source": []
  }
 ],
 "metadata": {
  "colab": {
   "name": "traditonal.ipynb",
   "provenance": []
  },
  "kernelspec": {
   "display_name": "Python 3",
   "language": "python",
   "name": "python3"
  },
  "language_info": {
   "codemirror_mode": {
    "name": "ipython",
    "version": 3
   },
   "file_extension": ".py",
   "mimetype": "text/x-python",
   "name": "python",
   "nbconvert_exporter": "python",
   "pygments_lexer": "ipython3",
   "version": "3.8.3"
  }
 },
 "nbformat": 4,
 "nbformat_minor": 4
}
