{
 "cells": [
  {
   "cell_type": "code",
   "execution_count": null,
   "metadata": {
    "id": "ca8i0Rg9m53t"
   },
   "outputs": [],
   "source": [
    "import pandas as pd"
   ]
  },
  {
   "cell_type": "code",
   "execution_count": null,
   "metadata": {
    "id": "eLeTQ-3inIjQ"
   },
   "outputs": [],
   "source": [
    "df = pd.read_excel('/content/WEO_Data.xlsx')"
   ]
  },
  {
   "cell_type": "code",
   "execution_count": null,
   "metadata": {
    "id": "ssFyhMMcnNO5"
   },
   "outputs": [],
   "source": [
    "df.drop(['Scale', 'Units', 'Country/Series-specific Notes'], axis=1, inplace=True)"
   ]
  },
  {
   "cell_type": "code",
   "execution_count": null,
   "metadata": {
    "colab": {
     "base_uri": "https://localhost:8080/",
     "height": 851
    },
    "id": "Th_8cTfnrGQz",
    "outputId": "00ba985c-1cbb-401e-846e-36e11a17e83d"
   },
   "outputs": [
    {
     "data": {
      "text/html": [
       "<div>\n",
       "<style scoped>\n",
       "    .dataframe tbody tr th:only-of-type {\n",
       "        vertical-align: middle;\n",
       "    }\n",
       "\n",
       "    .dataframe tbody tr th {\n",
       "        vertical-align: top;\n",
       "    }\n",
       "\n",
       "    .dataframe thead th {\n",
       "        text-align: right;\n",
       "    }\n",
       "</style>\n",
       "<table border=\"1\" class=\"dataframe\">\n",
       "  <thead>\n",
       "    <tr style=\"text-align: right;\">\n",
       "      <th></th>\n",
       "      <th>Country</th>\n",
       "      <th>Subject Descriptor</th>\n",
       "      <th>1997</th>\n",
       "      <th>1998</th>\n",
       "      <th>1999</th>\n",
       "      <th>2000</th>\n",
       "      <th>2001</th>\n",
       "      <th>2002</th>\n",
       "      <th>2003</th>\n",
       "      <th>2004</th>\n",
       "      <th>2005</th>\n",
       "      <th>2006</th>\n",
       "      <th>2007</th>\n",
       "      <th>2008</th>\n",
       "      <th>2009</th>\n",
       "      <th>2010</th>\n",
       "      <th>2011</th>\n",
       "      <th>2012</th>\n",
       "      <th>2013</th>\n",
       "      <th>2014</th>\n",
       "      <th>2015</th>\n",
       "      <th>2016</th>\n",
       "      <th>2017</th>\n",
       "      <th>2018</th>\n",
       "      <th>2019</th>\n",
       "      <th>2020</th>\n",
       "      <th>Estimates Start After</th>\n",
       "    </tr>\n",
       "  </thead>\n",
       "  <tbody>\n",
       "    <tr>\n",
       "      <th>0</th>\n",
       "      <td>Afghanistan</td>\n",
       "      <td>Gross domestic product, constant prices</td>\n",
       "      <td>NaN</td>\n",
       "      <td>NaN</td>\n",
       "      <td>NaN</td>\n",
       "      <td>NaN</td>\n",
       "      <td>NaN</td>\n",
       "      <td>453.484</td>\n",
       "      <td>492.903</td>\n",
       "      <td>496.209</td>\n",
       "      <td>554.91</td>\n",
       "      <td>584.658</td>\n",
       "      <td>662.65</td>\n",
       "      <td>688.247</td>\n",
       "      <td>829.924</td>\n",
       "      <td>899.956</td>\n",
       "      <td>958.266</td>\n",
       "      <td>1092.12</td>\n",
       "      <td>1154.18</td>\n",
       "      <td>1185.31</td>\n",
       "      <td>1197.01</td>\n",
       "      <td>1222.92</td>\n",
       "      <td>1255.29</td>\n",
       "      <td>1270.22</td>\n",
       "      <td>1319.9</td>\n",
       "      <td>1288.87</td>\n",
       "      <td>2019.0</td>\n",
       "    </tr>\n",
       "    <tr>\n",
       "      <th>1</th>\n",
       "      <td>Afghanistan</td>\n",
       "      <td>Implied PPP conversion rate</td>\n",
       "      <td>NaN</td>\n",
       "      <td>NaN</td>\n",
       "      <td>NaN</td>\n",
       "      <td>NaN</td>\n",
       "      <td>NaN</td>\n",
       "      <td>9.092</td>\n",
       "      <td>10.096</td>\n",
       "      <td>10.929</td>\n",
       "      <td>11.736</td>\n",
       "      <td>12.254</td>\n",
       "      <td>13.014</td>\n",
       "      <td>14.883</td>\n",
       "      <td>14.39</td>\n",
       "      <td>15.37</td>\n",
       "      <td>16.613</td>\n",
       "      <td>17.242</td>\n",
       "      <td>17.509</td>\n",
       "      <td>17.036</td>\n",
       "      <td>17.023</td>\n",
       "      <td>17.446</td>\n",
       "      <td>17.206</td>\n",
       "      <td>17.152</td>\n",
       "      <td>17.95</td>\n",
       "      <td>19.123</td>\n",
       "      <td>2019.0</td>\n",
       "    </tr>\n",
       "    <tr>\n",
       "      <th>2</th>\n",
       "      <td>Afghanistan</td>\n",
       "      <td>Inflation, end of period consumer prices</td>\n",
       "      <td>NaN</td>\n",
       "      <td>NaN</td>\n",
       "      <td>NaN</td>\n",
       "      <td>NaN</td>\n",
       "      <td>NaN</td>\n",
       "      <td>42.89</td>\n",
       "      <td>45.691</td>\n",
       "      <td>51.752</td>\n",
       "      <td>57.219</td>\n",
       "      <td>59.671</td>\n",
       "      <td>69.273</td>\n",
       "      <td>82.306</td>\n",
       "      <td>74.211</td>\n",
       "      <td>81.814</td>\n",
       "      <td>89.433</td>\n",
       "      <td>94.687</td>\n",
       "      <td>101.543</td>\n",
       "      <td>103.053</td>\n",
       "      <td>104.218</td>\n",
       "      <td>109</td>\n",
       "      <td>112.315</td>\n",
       "      <td>113.162</td>\n",
       "      <td>116.3</td>\n",
       "      <td>122.1</td>\n",
       "      <td>2020.0</td>\n",
       "    </tr>\n",
       "    <tr>\n",
       "      <th>3</th>\n",
       "      <td>Afghanistan</td>\n",
       "      <td>Volume of imports of goods and services</td>\n",
       "      <td>NaN</td>\n",
       "      <td>NaN</td>\n",
       "      <td>NaN</td>\n",
       "      <td>NaN</td>\n",
       "      <td>NaN</td>\n",
       "      <td>NaN</td>\n",
       "      <td>36.077</td>\n",
       "      <td>-1.088</td>\n",
       "      <td>54.659</td>\n",
       "      <td>-2.541</td>\n",
       "      <td>-9.417</td>\n",
       "      <td>-8.876</td>\n",
       "      <td>30.203</td>\n",
       "      <td>32.771</td>\n",
       "      <td>12.749</td>\n",
       "      <td>30.54</td>\n",
       "      <td>3.61</td>\n",
       "      <td>-14.292</td>\n",
       "      <td>16.07</td>\n",
       "      <td>-7.54</td>\n",
       "      <td>4.199</td>\n",
       "      <td>-5.188</td>\n",
       "      <td>-7.473</td>\n",
       "      <td>-2.925</td>\n",
       "      <td>2019.0</td>\n",
       "    </tr>\n",
       "    <tr>\n",
       "      <th>4</th>\n",
       "      <td>Afghanistan</td>\n",
       "      <td>Volume of exports of goods and services</td>\n",
       "      <td>NaN</td>\n",
       "      <td>NaN</td>\n",
       "      <td>NaN</td>\n",
       "      <td>NaN</td>\n",
       "      <td>NaN</td>\n",
       "      <td>NaN</td>\n",
       "      <td>49.721</td>\n",
       "      <td>-6.049</td>\n",
       "      <td>46.504</td>\n",
       "      <td>-7.69</td>\n",
       "      <td>-10.467</td>\n",
       "      <td>-6.459</td>\n",
       "      <td>30.656</td>\n",
       "      <td>10.856</td>\n",
       "      <td>2.823</td>\n",
       "      <td>-23.515</td>\n",
       "      <td>-37.604</td>\n",
       "      <td>51.906</td>\n",
       "      <td>-11.653</td>\n",
       "      <td>-14.811</td>\n",
       "      <td>-6.6</td>\n",
       "      <td>28.012</td>\n",
       "      <td>-3.838</td>\n",
       "      <td>0.534</td>\n",
       "      <td>2019.0</td>\n",
       "    </tr>\n",
       "    <tr>\n",
       "      <th>5</th>\n",
       "      <td>Afghanistan</td>\n",
       "      <td>Population</td>\n",
       "      <td>NaN</td>\n",
       "      <td>NaN</td>\n",
       "      <td>NaN</td>\n",
       "      <td>NaN</td>\n",
       "      <td>NaN</td>\n",
       "      <td>18.707</td>\n",
       "      <td>19.477</td>\n",
       "      <td>20.237</td>\n",
       "      <td>20.947</td>\n",
       "      <td>21.596</td>\n",
       "      <td>22.426</td>\n",
       "      <td>22.997</td>\n",
       "      <td>23.596</td>\n",
       "      <td>24.269</td>\n",
       "      <td>25.031</td>\n",
       "      <td>25.864</td>\n",
       "      <td>26.736</td>\n",
       "      <td>27.601</td>\n",
       "      <td>28.425</td>\n",
       "      <td>29.2</td>\n",
       "      <td>29.7</td>\n",
       "      <td>31.6</td>\n",
       "      <td>32.2</td>\n",
       "      <td>32.941</td>\n",
       "      <td>2019.0</td>\n",
       "    </tr>\n",
       "    <tr>\n",
       "      <th>6</th>\n",
       "      <td>Afghanistan</td>\n",
       "      <td>General government revenue</td>\n",
       "      <td>NaN</td>\n",
       "      <td>NaN</td>\n",
       "      <td>NaN</td>\n",
       "      <td>NaN</td>\n",
       "      <td>NaN</td>\n",
       "      <td>12.235</td>\n",
       "      <td>21.618</td>\n",
       "      <td>31.209</td>\n",
       "      <td>44.926</td>\n",
       "      <td>65.518</td>\n",
       "      <td>81.163</td>\n",
       "      <td>88.162</td>\n",
       "      <td>117.745</td>\n",
       "      <td>154.612</td>\n",
       "      <td>177.821</td>\n",
       "      <td>260.571</td>\n",
       "      <td>271.903</td>\n",
       "      <td>280.187</td>\n",
       "      <td>301.356</td>\n",
       "      <td>344.327</td>\n",
       "      <td>347.829</td>\n",
       "      <td>405.873</td>\n",
       "      <td>395.923</td>\n",
       "      <td>397.564</td>\n",
       "      <td>2019.0</td>\n",
       "    </tr>\n",
       "    <tr>\n",
       "      <th>7</th>\n",
       "      <td>Afghanistan</td>\n",
       "      <td>General government revenue</td>\n",
       "      <td>NaN</td>\n",
       "      <td>NaN</td>\n",
       "      <td>NaN</td>\n",
       "      <td>NaN</td>\n",
       "      <td>NaN</td>\n",
       "      <td>6.845</td>\n",
       "      <td>9.826</td>\n",
       "      <td>12.676</td>\n",
       "      <td>14.733</td>\n",
       "      <td>18.946</td>\n",
       "      <td>18.986</td>\n",
       "      <td>17.036</td>\n",
       "      <td>19.391</td>\n",
       "      <td>21.722</td>\n",
       "      <td>21.265</td>\n",
       "      <td>25.21</td>\n",
       "      <td>24.346</td>\n",
       "      <td>23.684</td>\n",
       "      <td>24.569</td>\n",
       "      <td>28.156</td>\n",
       "      <td>27.059</td>\n",
       "      <td>30.57</td>\n",
       "      <td>26.941</td>\n",
       "      <td>25.694</td>\n",
       "      <td>2019.0</td>\n",
       "    </tr>\n",
       "    <tr>\n",
       "      <th>8</th>\n",
       "      <td>Afghanistan</td>\n",
       "      <td>Current account balance</td>\n",
       "      <td>NaN</td>\n",
       "      <td>NaN</td>\n",
       "      <td>NaN</td>\n",
       "      <td>NaN</td>\n",
       "      <td>NaN</td>\n",
       "      <td>1.481</td>\n",
       "      <td>1.348</td>\n",
       "      <td>1.915</td>\n",
       "      <td>1.864</td>\n",
       "      <td>1.444</td>\n",
       "      <td>5.424</td>\n",
       "      <td>3.477</td>\n",
       "      <td>5.018</td>\n",
       "      <td>4.51</td>\n",
       "      <td>4.754</td>\n",
       "      <td>2.205</td>\n",
       "      <td>0.291</td>\n",
       "      <td>1.35</td>\n",
       "      <td>0.744</td>\n",
       "      <td>1.627</td>\n",
       "      <td>1.431</td>\n",
       "      <td>2.237</td>\n",
       "      <td>2.209</td>\n",
       "      <td>2.247</td>\n",
       "      <td>2019.0</td>\n",
       "    </tr>\n",
       "    <tr>\n",
       "      <th>9</th>\n",
       "      <td>Afghanistan</td>\n",
       "      <td>Current account balance</td>\n",
       "      <td>NaN</td>\n",
       "      <td>NaN</td>\n",
       "      <td>NaN</td>\n",
       "      <td>NaN</td>\n",
       "      <td>NaN</td>\n",
       "      <td>33.908</td>\n",
       "      <td>29.616</td>\n",
       "      <td>37.216</td>\n",
       "      <td>30.226</td>\n",
       "      <td>20.844</td>\n",
       "      <td>63.39</td>\n",
       "      <td>33.769</td>\n",
       "      <td>41.587</td>\n",
       "      <td>29.43</td>\n",
       "      <td>26.574</td>\n",
       "      <td>10.864</td>\n",
       "      <td>1.444</td>\n",
       "      <td>6.549</td>\n",
       "      <td>3.709</td>\n",
       "      <td>9.029</td>\n",
       "      <td>7.576</td>\n",
       "      <td>12.158</td>\n",
       "      <td>11.705</td>\n",
       "      <td>11.157</td>\n",
       "      <td>2019.0</td>\n",
       "    </tr>\n",
       "  </tbody>\n",
       "</table>\n",
       "</div>"
      ],
      "text/plain": [
       "       Country  ... Estimates Start After\n",
       "0  Afghanistan  ...                2019.0\n",
       "1  Afghanistan  ...                2019.0\n",
       "2  Afghanistan  ...                2020.0\n",
       "3  Afghanistan  ...                2019.0\n",
       "4  Afghanistan  ...                2019.0\n",
       "5  Afghanistan  ...                2019.0\n",
       "6  Afghanistan  ...                2019.0\n",
       "7  Afghanistan  ...                2019.0\n",
       "8  Afghanistan  ...                2019.0\n",
       "9  Afghanistan  ...                2019.0\n",
       "\n",
       "[10 rows x 27 columns]"
      ]
     },
     "execution_count": 51,
     "metadata": {},
     "output_type": "execute_result"
    }
   ],
   "source": [
    "df.head(10)"
   ]
  },
  {
   "cell_type": "code",
   "execution_count": null,
   "metadata": {
    "colab": {
     "base_uri": "https://localhost:8080/"
    },
    "id": "jL24SnhOsEET",
    "outputId": "fe26ed75-d052-4236-b828-4b7686808bf5"
   },
   "outputs": [
    {
     "data": {
      "text/plain": [
       "St. Kitts and Nevis                                                           10\n",
       "Bahrain                                                                       10\n",
       "Italy                                                                         10\n",
       "Paraguay                                                                      10\n",
       "Bosnia and Herzegovina                                                        10\n",
       "                                                                              ..\n",
       "Sweden                                                                        10\n",
       "Suriname                                                                      10\n",
       "Belize                                                                        10\n",
       "Democratic Republic of the Congo                                              10\n",
       "International Monetary Fund, World Economic Outlook Database, October 2021     1\n",
       "Name: Country, Length: 197, dtype: int64"
      ]
     },
     "execution_count": 5,
     "metadata": {},
     "output_type": "execute_result"
    }
   ],
   "source": [
    "df.Country.value_counts()"
   ]
  },
  {
   "cell_type": "code",
   "execution_count": null,
   "metadata": {
    "colab": {
     "base_uri": "https://localhost:8080/"
    },
    "id": "iefiF8QIsq-2",
    "outputId": "b572e6a5-5505-442a-f2cf-019ede95a416"
   },
   "outputs": [
    {
     "data": {
      "text/plain": [
       "Country                                  Afghanistan\n",
       "Subject Descriptor       Implied PPP conversion rate\n",
       "1997                                             NaN\n",
       "1998                                             NaN\n",
       "1999                                             NaN\n",
       "2000                                             NaN\n",
       "2001                                             NaN\n",
       "2002                                           9.092\n",
       "2003                                          10.096\n",
       "2004                                          10.929\n",
       "2005                                          11.736\n",
       "2006                                          12.254\n",
       "2007                                          13.014\n",
       "2008                                          14.883\n",
       "2009                                           14.39\n",
       "2010                                           15.37\n",
       "2011                                          16.613\n",
       "2012                                          17.242\n",
       "2013                                          17.509\n",
       "2014                                          17.036\n",
       "2015                                          17.023\n",
       "2016                                          17.446\n",
       "2017                                          17.206\n",
       "2018                                          17.152\n",
       "2019                                           17.95\n",
       "2020                                          19.123\n",
       "Estimates Start After                           2019\n",
       "Name: 1, dtype: object"
      ]
     },
     "execution_count": 6,
     "metadata": {},
     "output_type": "execute_result"
    }
   ],
   "source": [
    "df.loc[1]"
   ]
  },
  {
   "cell_type": "code",
   "execution_count": null,
   "metadata": {
    "id": "Be7m26_PxvwN"
   },
   "outputs": [],
   "source": [
    "df.drop([1960, 1961], axis=0, inplace=True)"
   ]
  },
  {
   "cell_type": "code",
   "execution_count": null,
   "metadata": {
    "colab": {
     "base_uri": "https://localhost:8080/"
    },
    "id": "HBNkqoChxx8B",
    "outputId": "4a8a1937-1fb3-4515-e64b-4e7e5fbc068c"
   },
   "outputs": [
    {
     "data": {
      "text/plain": [
       "(1960, 27)"
      ]
     },
     "execution_count": 8,
     "metadata": {},
     "output_type": "execute_result"
    }
   ],
   "source": [
    "df.shape"
   ]
  },
  {
   "cell_type": "code",
   "execution_count": null,
   "metadata": {
    "id": "MLCTl_Ukykx1"
   },
   "outputs": [],
   "source": [
    "years = df.columns.to_list()\n",
    "years.remove('Country')\n",
    "years.remove('Estimates Start After')\n",
    "years.remove('Subject Descriptor')"
   ]
  },
  {
   "cell_type": "code",
   "execution_count": null,
   "metadata": {
    "colab": {
     "base_uri": "https://localhost:8080/"
    },
    "id": "6ZUvR2c3yu3Q",
    "outputId": "a26720d1-2021-4464-f156-6c1294804a0f"
   },
   "outputs": [
    {
     "data": {
      "text/plain": [
       "24"
      ]
     },
     "execution_count": 15,
     "metadata": {},
     "output_type": "execute_result"
    }
   ],
   "source": [
    "len(years)"
   ]
  },
  {
   "cell_type": "code",
   "execution_count": null,
   "metadata": {
    "id": "ruFbwoGo0TSN"
   },
   "outputs": [],
   "source": [
    "rows = []\n",
    "\n",
    "last_val_start = 0\n",
    "last_val_end = 10\n",
    "\n",
    "for i in range(196):\n",
    "  idx = list(range(last_val_start, last_val_end))\n",
    "  for year in years:\n",
    "    row = []\n",
    "    for id in idx:\n",
    "      element = df.loc[id, year]\n",
    "      row.append(element)\n",
    "    rows.append(row)\n",
    "  last_val_end += 10\n",
    "  last_val_start += 10"
   ]
  },
  {
   "cell_type": "code",
   "execution_count": null,
   "metadata": {
    "colab": {
     "base_uri": "https://localhost:8080/"
    },
    "id": "KDpIcNvn24AG",
    "outputId": "899fd5bb-61f0-42c6-cb2c-b72ab714ea5c"
   },
   "outputs": [
    {
     "data": {
      "text/plain": [
       "4704"
      ]
     },
     "execution_count": 38,
     "metadata": {},
     "output_type": "execute_result"
    }
   ],
   "source": [
    "len(rows)"
   ]
  },
  {
   "cell_type": "code",
   "execution_count": null,
   "metadata": {
    "colab": {
     "base_uri": "https://localhost:8080/"
    },
    "id": "P0ObFFvT25Py",
    "outputId": "1f4f722d-f35c-4432-8b25-3ab72a9a7927"
   },
   "outputs": [
    {
     "data": {
      "text/plain": [
       "[18.111, 32.843, 2397.639, nan, nan, 15.189, 183.039, 16.275, 1.275, 5.815]"
      ]
     },
     "execution_count": 40,
     "metadata": {},
     "output_type": "execute_result"
    }
   ],
   "source": [
    "rows[-1]"
   ]
  },
  {
   "cell_type": "code",
   "execution_count": null,
   "metadata": {
    "id": "Qdwszby4EfSG"
   },
   "outputs": [],
   "source": [
    "finaldf = pd.DataFrame(rows)\n"
   ]
  },
  {
   "cell_type": "code",
   "execution_count": null,
   "metadata": {
    "id": "9FxwGhzVFfp1"
   },
   "outputs": [],
   "source": [
    "finaldf.columns = [\"GDP\", \"Implied PPP Conversion Rate\", \"Inflation\", \"Import Volume\", \"Export Volume\", \"Population\", \"Government Revenue\", \"General Government Revenue\", \"Currect Account Balance\", \"Currect Account Balance\"]"
   ]
  },
  {
   "cell_type": "code",
   "execution_count": null,
   "metadata": {
    "colab": {
     "base_uri": "https://localhost:8080/",
     "height": 241
    },
    "id": "cEqfSjERGJEa",
    "outputId": "9dc5e3fc-6001-4036-9da4-b9f8a1d6ece6"
   },
   "outputs": [
    {
     "data": {
      "text/html": [
       "<div>\n",
       "<style scoped>\n",
       "    .dataframe tbody tr th:only-of-type {\n",
       "        vertical-align: middle;\n",
       "    }\n",
       "\n",
       "    .dataframe tbody tr th {\n",
       "        vertical-align: top;\n",
       "    }\n",
       "\n",
       "    .dataframe thead th {\n",
       "        text-align: right;\n",
       "    }\n",
       "</style>\n",
       "<table border=\"1\" class=\"dataframe\">\n",
       "  <thead>\n",
       "    <tr style=\"text-align: right;\">\n",
       "      <th></th>\n",
       "      <th>GDP</th>\n",
       "      <th>Implied PPP Conversion Rate</th>\n",
       "      <th>Inflation</th>\n",
       "      <th>Import Volume</th>\n",
       "      <th>Export Volume</th>\n",
       "      <th>Population</th>\n",
       "      <th>Government Revenue</th>\n",
       "      <th>General Government Revenue</th>\n",
       "      <th>Currect Account Balance</th>\n",
       "      <th>Currect Account Balance</th>\n",
       "    </tr>\n",
       "  </thead>\n",
       "  <tbody>\n",
       "    <tr>\n",
       "      <th>0</th>\n",
       "      <td>NaN</td>\n",
       "      <td>NaN</td>\n",
       "      <td>NaN</td>\n",
       "      <td>NaN</td>\n",
       "      <td>NaN</td>\n",
       "      <td>NaN</td>\n",
       "      <td>NaN</td>\n",
       "      <td>NaN</td>\n",
       "      <td>NaN</td>\n",
       "      <td>NaN</td>\n",
       "    </tr>\n",
       "    <tr>\n",
       "      <th>1</th>\n",
       "      <td>NaN</td>\n",
       "      <td>NaN</td>\n",
       "      <td>NaN</td>\n",
       "      <td>NaN</td>\n",
       "      <td>NaN</td>\n",
       "      <td>NaN</td>\n",
       "      <td>NaN</td>\n",
       "      <td>NaN</td>\n",
       "      <td>NaN</td>\n",
       "      <td>NaN</td>\n",
       "    </tr>\n",
       "    <tr>\n",
       "      <th>2</th>\n",
       "      <td>NaN</td>\n",
       "      <td>NaN</td>\n",
       "      <td>NaN</td>\n",
       "      <td>NaN</td>\n",
       "      <td>NaN</td>\n",
       "      <td>NaN</td>\n",
       "      <td>NaN</td>\n",
       "      <td>NaN</td>\n",
       "      <td>NaN</td>\n",
       "      <td>NaN</td>\n",
       "    </tr>\n",
       "    <tr>\n",
       "      <th>3</th>\n",
       "      <td>NaN</td>\n",
       "      <td>NaN</td>\n",
       "      <td>NaN</td>\n",
       "      <td>NaN</td>\n",
       "      <td>NaN</td>\n",
       "      <td>NaN</td>\n",
       "      <td>NaN</td>\n",
       "      <td>NaN</td>\n",
       "      <td>NaN</td>\n",
       "      <td>NaN</td>\n",
       "    </tr>\n",
       "    <tr>\n",
       "      <th>4</th>\n",
       "      <td>NaN</td>\n",
       "      <td>NaN</td>\n",
       "      <td>NaN</td>\n",
       "      <td>NaN</td>\n",
       "      <td>NaN</td>\n",
       "      <td>NaN</td>\n",
       "      <td>NaN</td>\n",
       "      <td>NaN</td>\n",
       "      <td>NaN</td>\n",
       "      <td>NaN</td>\n",
       "    </tr>\n",
       "  </tbody>\n",
       "</table>\n",
       "</div>"
      ],
      "text/plain": [
       "   GDP  ... Currect Account Balance\n",
       "0  NaN  ...                     NaN\n",
       "1  NaN  ...                     NaN\n",
       "2  NaN  ...                     NaN\n",
       "3  NaN  ...                     NaN\n",
       "4  NaN  ...                     NaN\n",
       "\n",
       "[5 rows x 10 columns]"
      ]
     },
     "execution_count": 53,
     "metadata": {},
     "output_type": "execute_result"
    }
   ],
   "source": [
    "finaldf.head()"
   ]
  },
  {
   "cell_type": "code",
   "execution_count": null,
   "metadata": {
    "id": "MGSMikX9GUTO"
   },
   "outputs": [],
   "source": [
    "finaldf.to_csv(\"GDP.csv\")"
   ]
  },
  {
   "cell_type": "code",
   "execution_count": null,
   "metadata": {
    "id": "ie9w27WlIBCF"
   },
   "outputs": [],
   "source": []
  }
 ],
 "metadata": {
  "colab": {
   "collapsed_sections": [],
   "name": "dataCleaningGDP.ipynb",
   "provenance": []
  },
  "kernelspec": {
   "display_name": "Python 3 (ipykernel)",
   "language": "python",
   "name": "python3"
  },
  "language_info": {
   "codemirror_mode": {
    "name": "ipython",
    "version": 3
   },
   "file_extension": ".py",
   "mimetype": "text/x-python",
   "name": "python",
   "nbconvert_exporter": "python",
   "pygments_lexer": "ipython3",
   "version": "3.8.12"
  }
 },
 "nbformat": 4,
 "nbformat_minor": 4
}
